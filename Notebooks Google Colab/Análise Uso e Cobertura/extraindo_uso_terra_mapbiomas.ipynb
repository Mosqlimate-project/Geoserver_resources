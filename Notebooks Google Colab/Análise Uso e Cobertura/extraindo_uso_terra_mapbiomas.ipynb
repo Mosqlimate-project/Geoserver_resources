{
  "nbformat": 4,
  "nbformat_minor": 0,
  "metadata": {
    "colab": {
      "provenance": []
    },
    "kernelspec": {
      "name": "python3",
      "display_name": "Python 3"
    },
    "language_info": {
      "name": "python"
    }
  },
  "cells": [
    {
      "cell_type": "code",
      "execution_count": 1,
      "metadata": {
        "colab": {
          "base_uri": "https://localhost:8080/"
        },
        "id": "5PzS7G3knP39",
        "outputId": "a83df15f-ee12-4c2e-95a3-2217329a2baf"
      },
      "outputs": [
        {
          "output_type": "stream",
          "name": "stdout",
          "text": [
            "Collecting rasterio\n",
            "  Downloading rasterio-1.4.3-cp311-cp311-manylinux_2_17_x86_64.manylinux2014_x86_64.whl.metadata (9.1 kB)\n",
            "Collecting geojson\n",
            "  Downloading geojson-3.2.0-py3-none-any.whl.metadata (16 kB)\n",
            "Collecting rasterstats\n",
            "  Downloading rasterstats-0.20.0-py3-none-any.whl.metadata (4.2 kB)\n",
            "Collecting owslib\n",
            "  Downloading owslib-0.33.0-py3-none-any.whl.metadata (6.9 kB)\n",
            "Collecting affine (from rasterio)\n",
            "  Downloading affine-2.4.0-py3-none-any.whl.metadata (4.0 kB)\n",
            "Requirement already satisfied: attrs in /usr/local/lib/python3.11/dist-packages (from rasterio) (25.3.0)\n",
            "Requirement already satisfied: certifi in /usr/local/lib/python3.11/dist-packages (from rasterio) (2025.4.26)\n",
            "Requirement already satisfied: click>=4.0 in /usr/local/lib/python3.11/dist-packages (from rasterio) (8.2.1)\n",
            "Collecting cligj>=0.5 (from rasterio)\n",
            "  Downloading cligj-0.7.2-py3-none-any.whl.metadata (5.0 kB)\n",
            "Requirement already satisfied: numpy>=1.24 in /usr/local/lib/python3.11/dist-packages (from rasterio) (2.0.2)\n",
            "Collecting click-plugins (from rasterio)\n",
            "  Downloading click_plugins-1.1.1-py2.py3-none-any.whl.metadata (6.4 kB)\n",
            "Requirement already satisfied: pyparsing in /usr/local/lib/python3.11/dist-packages (from rasterio) (3.2.3)\n",
            "Collecting fiona (from rasterstats)\n",
            "  Downloading fiona-1.10.1-cp311-cp311-manylinux_2_17_x86_64.manylinux2014_x86_64.whl.metadata (56 kB)\n",
            "\u001b[2K     \u001b[90m━━━━━━━━━━━━━━━━━━━━━━━━━━━━━━━━━━━━━━━━\u001b[0m \u001b[32m56.6/56.6 kB\u001b[0m \u001b[31m1.7 MB/s\u001b[0m eta \u001b[36m0:00:00\u001b[0m\n",
            "\u001b[?25hRequirement already satisfied: simplejson in /usr/local/lib/python3.11/dist-packages (from rasterstats) (3.20.1)\n",
            "Requirement already satisfied: shapely in /usr/local/lib/python3.11/dist-packages (from rasterstats) (2.1.1)\n",
            "Requirement already satisfied: lxml in /usr/local/lib/python3.11/dist-packages (from owslib) (5.4.0)\n",
            "Requirement already satisfied: python-dateutil in /usr/local/lib/python3.11/dist-packages (from owslib) (2.9.0.post0)\n",
            "Requirement already satisfied: pyyaml in /usr/local/lib/python3.11/dist-packages (from owslib) (6.0.2)\n",
            "Requirement already satisfied: requests in /usr/local/lib/python3.11/dist-packages (from owslib) (2.32.3)\n",
            "Requirement already satisfied: six>=1.5 in /usr/local/lib/python3.11/dist-packages (from python-dateutil->owslib) (1.17.0)\n",
            "Requirement already satisfied: charset-normalizer<4,>=2 in /usr/local/lib/python3.11/dist-packages (from requests->owslib) (3.4.2)\n",
            "Requirement already satisfied: idna<4,>=2.5 in /usr/local/lib/python3.11/dist-packages (from requests->owslib) (3.10)\n",
            "Requirement already satisfied: urllib3<3,>=1.21.1 in /usr/local/lib/python3.11/dist-packages (from requests->owslib) (2.4.0)\n",
            "Downloading rasterio-1.4.3-cp311-cp311-manylinux_2_17_x86_64.manylinux2014_x86_64.whl (22.2 MB)\n",
            "\u001b[2K   \u001b[90m━━━━━━━━━━━━━━━━━━━━━━━━━━━━━━━━━━━━━━━━\u001b[0m \u001b[32m22.2/22.2 MB\u001b[0m \u001b[31m61.5 MB/s\u001b[0m eta \u001b[36m0:00:00\u001b[0m\n",
            "\u001b[?25hDownloading geojson-3.2.0-py3-none-any.whl (15 kB)\n",
            "Downloading rasterstats-0.20.0-py3-none-any.whl (17 kB)\n",
            "Downloading owslib-0.33.0-py3-none-any.whl (240 kB)\n",
            "\u001b[2K   \u001b[90m━━━━━━━━━━━━━━━━━━━━━━━━━━━━━━━━━━━━━━━━\u001b[0m \u001b[32m240.1/240.1 kB\u001b[0m \u001b[31m12.2 MB/s\u001b[0m eta \u001b[36m0:00:00\u001b[0m\n",
            "\u001b[?25hDownloading cligj-0.7.2-py3-none-any.whl (7.1 kB)\n",
            "Downloading affine-2.4.0-py3-none-any.whl (15 kB)\n",
            "Downloading click_plugins-1.1.1-py2.py3-none-any.whl (7.5 kB)\n",
            "Downloading fiona-1.10.1-cp311-cp311-manylinux_2_17_x86_64.manylinux2014_x86_64.whl (17.3 MB)\n",
            "\u001b[2K   \u001b[90m━━━━━━━━━━━━━━━━━━━━━━━━━━━━━━━━━━━━━━━━\u001b[0m \u001b[32m17.3/17.3 MB\u001b[0m \u001b[31m61.1 MB/s\u001b[0m eta \u001b[36m0:00:00\u001b[0m\n",
            "\u001b[?25hInstalling collected packages: geojson, cligj, click-plugins, affine, rasterio, owslib, fiona, rasterstats\n",
            "Successfully installed affine-2.4.0 click-plugins-1.1.1 cligj-0.7.2 fiona-1.10.1 geojson-3.2.0 owslib-0.33.0 rasterio-1.4.3 rasterstats-0.20.0\n"
          ]
        }
      ],
      "source": [
        "!pip install rasterio geojson rasterstats owslib"
      ]
    },
    {
      "cell_type": "code",
      "source": [
        "import geopandas as gpd\n",
        "import numpy as np\n",
        "import pandas as pd\n",
        "from owslib.wcs import WebCoverageService\n",
        "import requests\n",
        "import geojson\n",
        "import rasterio\n",
        "import geopandas as gpd\n",
        "from rasterio.plot import show\n",
        "import matplotlib.pyplot as plt\n",
        "import matplotlib.lines as mlines\n",
        "import matplotlib.colors as mcolors\n",
        "import matplotlib.patches as mpatches\n",
        "from rasterstats import zonal_stats\n",
        "from io import BytesIO\n",
        "from shapely.geometry import box\n",
        "from matplotlib.colors import ListedColormap, BoundaryNorm\n"
      ],
      "metadata": {
        "id": "kwqB8MlLnWpV"
      },
      "execution_count": 2,
      "outputs": []
    },
    {
      "cell_type": "markdown",
      "source": [
        "## Importando camada vetorial"
      ],
      "metadata": {
        "id": "qLqzgmUFnZMm"
      }
    },
    {
      "cell_type": "code",
      "source": [
        "# Parâmetros para conectar com a camada vetorial\n",
        "mun_url = \"https://info.dengue.mat.br/geoserver/wfs\"\n",
        "\n",
        "params_AML = dict(\n",
        "    service=\"WFS\",\n",
        "    version=\"2.0.0\",\n",
        "    request=\"GetFeature\",\n",
        "    typeName=\"AP_subdistritos_CD2022\", # usando camada de subdistritos, pois municípios na Amazônia são gigantes\n",
        "    outputFormat=\"json\",\n",
        ")\n",
        "\n",
        "# Fazendo o request\n",
        "r_AML = requests.get(mun_url, params=params_AML)\n",
        "\n",
        "# Baixando e carregando a camada\n",
        "municipios = gpd.GeoDataFrame.from_features(geojson.loads(r_AML.content), crs=\"EPSG:4674\")\n"
      ],
      "metadata": {
        "id": "W302qqe0nYlx"
      },
      "execution_count": 3,
      "outputs": []
    },
    {
      "cell_type": "code",
      "source": [
        "municipios.head()"
      ],
      "metadata": {
        "colab": {
          "base_uri": "https://localhost:8080/",
          "height": 564
        },
        "id": "bqvqCgdtndd1",
        "outputId": "e3655144-882b-4b7f-8d89-a4895e530c73"
      },
      "execution_count": 4,
      "outputs": [
        {
          "output_type": "execute_result",
          "data": {
            "text/plain": [
              "                                            geometry  id CD_REGIAO NM_REGIAO  \\\n",
              "0  POLYGON ((-52.00182 0.93616, -52.00186 0.93637...   1         1     Norte   \n",
              "1  POLYGON ((-52.01806 0.88724, -52.01771 0.8863,...   2         1     Norte   \n",
              "2  POLYGON ((-50.45011 2.10924, -50.44715 2.10917...   3         1     Norte   \n",
              "3  POLYGON ((-50.5088 2.18518, -50.5069 2.18443, ...   4         1     Norte   \n",
              "4  POLYGON ((-50.77464 1.83875, -50.7747 1.8383, ...   5         1     Norte   \n",
              "\n",
              "  CD_UF  NM_UF   CD_MUN          NM_MUN    CD_DIST         NM_DIST  \\\n",
              "0    16  Amapá  1600055  Serra do Navio  160005505  Serra do Navio   \n",
              "1    16  Amapá  1600055  Serra do Navio  160005510         Cachaço   \n",
              "2    16  Amapá  1600105           Amapá  160010505           Amapá   \n",
              "3    16  Amapá  1600105           Amapá  160010505           Amapá   \n",
              "4    16  Amapá  1600105           Amapá  160010505           Amapá   \n",
              "\n",
              "    CD_SUBDIST NM_SUBDIST CD_RGINT                 NM_RGINT  CD_RGI  \\\n",
              "0  16000550500       None     1602  Oiapoque - Porto Grande  160004   \n",
              "1  16000551000       None     1602  Oiapoque - Porto Grande  160004   \n",
              "2  16001050500       None     1602  Oiapoque - Porto Grande  160003   \n",
              "3  16001050500       None     1602  Oiapoque - Porto Grande  160003   \n",
              "4  16001050500       None     1602  Oiapoque - Porto Grande  160003   \n",
              "\n",
              "         NM_RGI CD_CONCURB NM_CONCURB SIGLA  \n",
              "0  Porto Grande       None       None    AP  \n",
              "1  Porto Grande       None       None    AP  \n",
              "2      Oiapoque       None       None    AP  \n",
              "3      Oiapoque       None       None    AP  \n",
              "4      Oiapoque       None       None    AP  "
            ],
            "text/html": [
              "\n",
              "  <div id=\"df-1b7e7a70-03a1-42e5-9657-5e04530778c3\" class=\"colab-df-container\">\n",
              "    <div>\n",
              "<style scoped>\n",
              "    .dataframe tbody tr th:only-of-type {\n",
              "        vertical-align: middle;\n",
              "    }\n",
              "\n",
              "    .dataframe tbody tr th {\n",
              "        vertical-align: top;\n",
              "    }\n",
              "\n",
              "    .dataframe thead th {\n",
              "        text-align: right;\n",
              "    }\n",
              "</style>\n",
              "<table border=\"1\" class=\"dataframe\">\n",
              "  <thead>\n",
              "    <tr style=\"text-align: right;\">\n",
              "      <th></th>\n",
              "      <th>geometry</th>\n",
              "      <th>id</th>\n",
              "      <th>CD_REGIAO</th>\n",
              "      <th>NM_REGIAO</th>\n",
              "      <th>CD_UF</th>\n",
              "      <th>NM_UF</th>\n",
              "      <th>CD_MUN</th>\n",
              "      <th>NM_MUN</th>\n",
              "      <th>CD_DIST</th>\n",
              "      <th>NM_DIST</th>\n",
              "      <th>CD_SUBDIST</th>\n",
              "      <th>NM_SUBDIST</th>\n",
              "      <th>CD_RGINT</th>\n",
              "      <th>NM_RGINT</th>\n",
              "      <th>CD_RGI</th>\n",
              "      <th>NM_RGI</th>\n",
              "      <th>CD_CONCURB</th>\n",
              "      <th>NM_CONCURB</th>\n",
              "      <th>SIGLA</th>\n",
              "    </tr>\n",
              "  </thead>\n",
              "  <tbody>\n",
              "    <tr>\n",
              "      <th>0</th>\n",
              "      <td>POLYGON ((-52.00182 0.93616, -52.00186 0.93637...</td>\n",
              "      <td>1</td>\n",
              "      <td>1</td>\n",
              "      <td>Norte</td>\n",
              "      <td>16</td>\n",
              "      <td>Amapá</td>\n",
              "      <td>1600055</td>\n",
              "      <td>Serra do Navio</td>\n",
              "      <td>160005505</td>\n",
              "      <td>Serra do Navio</td>\n",
              "      <td>16000550500</td>\n",
              "      <td>None</td>\n",
              "      <td>1602</td>\n",
              "      <td>Oiapoque - Porto Grande</td>\n",
              "      <td>160004</td>\n",
              "      <td>Porto Grande</td>\n",
              "      <td>None</td>\n",
              "      <td>None</td>\n",
              "      <td>AP</td>\n",
              "    </tr>\n",
              "    <tr>\n",
              "      <th>1</th>\n",
              "      <td>POLYGON ((-52.01806 0.88724, -52.01771 0.8863,...</td>\n",
              "      <td>2</td>\n",
              "      <td>1</td>\n",
              "      <td>Norte</td>\n",
              "      <td>16</td>\n",
              "      <td>Amapá</td>\n",
              "      <td>1600055</td>\n",
              "      <td>Serra do Navio</td>\n",
              "      <td>160005510</td>\n",
              "      <td>Cachaço</td>\n",
              "      <td>16000551000</td>\n",
              "      <td>None</td>\n",
              "      <td>1602</td>\n",
              "      <td>Oiapoque - Porto Grande</td>\n",
              "      <td>160004</td>\n",
              "      <td>Porto Grande</td>\n",
              "      <td>None</td>\n",
              "      <td>None</td>\n",
              "      <td>AP</td>\n",
              "    </tr>\n",
              "    <tr>\n",
              "      <th>2</th>\n",
              "      <td>POLYGON ((-50.45011 2.10924, -50.44715 2.10917...</td>\n",
              "      <td>3</td>\n",
              "      <td>1</td>\n",
              "      <td>Norte</td>\n",
              "      <td>16</td>\n",
              "      <td>Amapá</td>\n",
              "      <td>1600105</td>\n",
              "      <td>Amapá</td>\n",
              "      <td>160010505</td>\n",
              "      <td>Amapá</td>\n",
              "      <td>16001050500</td>\n",
              "      <td>None</td>\n",
              "      <td>1602</td>\n",
              "      <td>Oiapoque - Porto Grande</td>\n",
              "      <td>160003</td>\n",
              "      <td>Oiapoque</td>\n",
              "      <td>None</td>\n",
              "      <td>None</td>\n",
              "      <td>AP</td>\n",
              "    </tr>\n",
              "    <tr>\n",
              "      <th>3</th>\n",
              "      <td>POLYGON ((-50.5088 2.18518, -50.5069 2.18443, ...</td>\n",
              "      <td>4</td>\n",
              "      <td>1</td>\n",
              "      <td>Norte</td>\n",
              "      <td>16</td>\n",
              "      <td>Amapá</td>\n",
              "      <td>1600105</td>\n",
              "      <td>Amapá</td>\n",
              "      <td>160010505</td>\n",
              "      <td>Amapá</td>\n",
              "      <td>16001050500</td>\n",
              "      <td>None</td>\n",
              "      <td>1602</td>\n",
              "      <td>Oiapoque - Porto Grande</td>\n",
              "      <td>160003</td>\n",
              "      <td>Oiapoque</td>\n",
              "      <td>None</td>\n",
              "      <td>None</td>\n",
              "      <td>AP</td>\n",
              "    </tr>\n",
              "    <tr>\n",
              "      <th>4</th>\n",
              "      <td>POLYGON ((-50.77464 1.83875, -50.7747 1.8383, ...</td>\n",
              "      <td>5</td>\n",
              "      <td>1</td>\n",
              "      <td>Norte</td>\n",
              "      <td>16</td>\n",
              "      <td>Amapá</td>\n",
              "      <td>1600105</td>\n",
              "      <td>Amapá</td>\n",
              "      <td>160010505</td>\n",
              "      <td>Amapá</td>\n",
              "      <td>16001050500</td>\n",
              "      <td>None</td>\n",
              "      <td>1602</td>\n",
              "      <td>Oiapoque - Porto Grande</td>\n",
              "      <td>160003</td>\n",
              "      <td>Oiapoque</td>\n",
              "      <td>None</td>\n",
              "      <td>None</td>\n",
              "      <td>AP</td>\n",
              "    </tr>\n",
              "  </tbody>\n",
              "</table>\n",
              "</div>\n",
              "    <div class=\"colab-df-buttons\">\n",
              "\n",
              "  <div class=\"colab-df-container\">\n",
              "    <button class=\"colab-df-convert\" onclick=\"convertToInteractive('df-1b7e7a70-03a1-42e5-9657-5e04530778c3')\"\n",
              "            title=\"Convert this dataframe to an interactive table.\"\n",
              "            style=\"display:none;\">\n",
              "\n",
              "  <svg xmlns=\"http://www.w3.org/2000/svg\" height=\"24px\" viewBox=\"0 -960 960 960\">\n",
              "    <path d=\"M120-120v-720h720v720H120Zm60-500h600v-160H180v160Zm220 220h160v-160H400v160Zm0 220h160v-160H400v160ZM180-400h160v-160H180v160Zm440 0h160v-160H620v160ZM180-180h160v-160H180v160Zm440 0h160v-160H620v160Z\"/>\n",
              "  </svg>\n",
              "    </button>\n",
              "\n",
              "  <style>\n",
              "    .colab-df-container {\n",
              "      display:flex;\n",
              "      gap: 12px;\n",
              "    }\n",
              "\n",
              "    .colab-df-convert {\n",
              "      background-color: #E8F0FE;\n",
              "      border: none;\n",
              "      border-radius: 50%;\n",
              "      cursor: pointer;\n",
              "      display: none;\n",
              "      fill: #1967D2;\n",
              "      height: 32px;\n",
              "      padding: 0 0 0 0;\n",
              "      width: 32px;\n",
              "    }\n",
              "\n",
              "    .colab-df-convert:hover {\n",
              "      background-color: #E2EBFA;\n",
              "      box-shadow: 0px 1px 2px rgba(60, 64, 67, 0.3), 0px 1px 3px 1px rgba(60, 64, 67, 0.15);\n",
              "      fill: #174EA6;\n",
              "    }\n",
              "\n",
              "    .colab-df-buttons div {\n",
              "      margin-bottom: 4px;\n",
              "    }\n",
              "\n",
              "    [theme=dark] .colab-df-convert {\n",
              "      background-color: #3B4455;\n",
              "      fill: #D2E3FC;\n",
              "    }\n",
              "\n",
              "    [theme=dark] .colab-df-convert:hover {\n",
              "      background-color: #434B5C;\n",
              "      box-shadow: 0px 1px 3px 1px rgba(0, 0, 0, 0.15);\n",
              "      filter: drop-shadow(0px 1px 2px rgba(0, 0, 0, 0.3));\n",
              "      fill: #FFFFFF;\n",
              "    }\n",
              "  </style>\n",
              "\n",
              "    <script>\n",
              "      const buttonEl =\n",
              "        document.querySelector('#df-1b7e7a70-03a1-42e5-9657-5e04530778c3 button.colab-df-convert');\n",
              "      buttonEl.style.display =\n",
              "        google.colab.kernel.accessAllowed ? 'block' : 'none';\n",
              "\n",
              "      async function convertToInteractive(key) {\n",
              "        const element = document.querySelector('#df-1b7e7a70-03a1-42e5-9657-5e04530778c3');\n",
              "        const dataTable =\n",
              "          await google.colab.kernel.invokeFunction('convertToInteractive',\n",
              "                                                    [key], {});\n",
              "        if (!dataTable) return;\n",
              "\n",
              "        const docLinkHtml = 'Like what you see? Visit the ' +\n",
              "          '<a target=\"_blank\" href=https://colab.research.google.com/notebooks/data_table.ipynb>data table notebook</a>'\n",
              "          + ' to learn more about interactive tables.';\n",
              "        element.innerHTML = '';\n",
              "        dataTable['output_type'] = 'display_data';\n",
              "        await google.colab.output.renderOutput(dataTable, element);\n",
              "        const docLink = document.createElement('div');\n",
              "        docLink.innerHTML = docLinkHtml;\n",
              "        element.appendChild(docLink);\n",
              "      }\n",
              "    </script>\n",
              "  </div>\n",
              "\n",
              "\n",
              "    <div id=\"df-235d3248-3fed-45ba-a075-59a734145235\">\n",
              "      <button class=\"colab-df-quickchart\" onclick=\"quickchart('df-235d3248-3fed-45ba-a075-59a734145235')\"\n",
              "                title=\"Suggest charts\"\n",
              "                style=\"display:none;\">\n",
              "\n",
              "<svg xmlns=\"http://www.w3.org/2000/svg\" height=\"24px\"viewBox=\"0 0 24 24\"\n",
              "     width=\"24px\">\n",
              "    <g>\n",
              "        <path d=\"M19 3H5c-1.1 0-2 .9-2 2v14c0 1.1.9 2 2 2h14c1.1 0 2-.9 2-2V5c0-1.1-.9-2-2-2zM9 17H7v-7h2v7zm4 0h-2V7h2v10zm4 0h-2v-4h2v4z\"/>\n",
              "    </g>\n",
              "</svg>\n",
              "      </button>\n",
              "\n",
              "<style>\n",
              "  .colab-df-quickchart {\n",
              "      --bg-color: #E8F0FE;\n",
              "      --fill-color: #1967D2;\n",
              "      --hover-bg-color: #E2EBFA;\n",
              "      --hover-fill-color: #174EA6;\n",
              "      --disabled-fill-color: #AAA;\n",
              "      --disabled-bg-color: #DDD;\n",
              "  }\n",
              "\n",
              "  [theme=dark] .colab-df-quickchart {\n",
              "      --bg-color: #3B4455;\n",
              "      --fill-color: #D2E3FC;\n",
              "      --hover-bg-color: #434B5C;\n",
              "      --hover-fill-color: #FFFFFF;\n",
              "      --disabled-bg-color: #3B4455;\n",
              "      --disabled-fill-color: #666;\n",
              "  }\n",
              "\n",
              "  .colab-df-quickchart {\n",
              "    background-color: var(--bg-color);\n",
              "    border: none;\n",
              "    border-radius: 50%;\n",
              "    cursor: pointer;\n",
              "    display: none;\n",
              "    fill: var(--fill-color);\n",
              "    height: 32px;\n",
              "    padding: 0;\n",
              "    width: 32px;\n",
              "  }\n",
              "\n",
              "  .colab-df-quickchart:hover {\n",
              "    background-color: var(--hover-bg-color);\n",
              "    box-shadow: 0 1px 2px rgba(60, 64, 67, 0.3), 0 1px 3px 1px rgba(60, 64, 67, 0.15);\n",
              "    fill: var(--button-hover-fill-color);\n",
              "  }\n",
              "\n",
              "  .colab-df-quickchart-complete:disabled,\n",
              "  .colab-df-quickchart-complete:disabled:hover {\n",
              "    background-color: var(--disabled-bg-color);\n",
              "    fill: var(--disabled-fill-color);\n",
              "    box-shadow: none;\n",
              "  }\n",
              "\n",
              "  .colab-df-spinner {\n",
              "    border: 2px solid var(--fill-color);\n",
              "    border-color: transparent;\n",
              "    border-bottom-color: var(--fill-color);\n",
              "    animation:\n",
              "      spin 1s steps(1) infinite;\n",
              "  }\n",
              "\n",
              "  @keyframes spin {\n",
              "    0% {\n",
              "      border-color: transparent;\n",
              "      border-bottom-color: var(--fill-color);\n",
              "      border-left-color: var(--fill-color);\n",
              "    }\n",
              "    20% {\n",
              "      border-color: transparent;\n",
              "      border-left-color: var(--fill-color);\n",
              "      border-top-color: var(--fill-color);\n",
              "    }\n",
              "    30% {\n",
              "      border-color: transparent;\n",
              "      border-left-color: var(--fill-color);\n",
              "      border-top-color: var(--fill-color);\n",
              "      border-right-color: var(--fill-color);\n",
              "    }\n",
              "    40% {\n",
              "      border-color: transparent;\n",
              "      border-right-color: var(--fill-color);\n",
              "      border-top-color: var(--fill-color);\n",
              "    }\n",
              "    60% {\n",
              "      border-color: transparent;\n",
              "      border-right-color: var(--fill-color);\n",
              "    }\n",
              "    80% {\n",
              "      border-color: transparent;\n",
              "      border-right-color: var(--fill-color);\n",
              "      border-bottom-color: var(--fill-color);\n",
              "    }\n",
              "    90% {\n",
              "      border-color: transparent;\n",
              "      border-bottom-color: var(--fill-color);\n",
              "    }\n",
              "  }\n",
              "</style>\n",
              "\n",
              "      <script>\n",
              "        async function quickchart(key) {\n",
              "          const quickchartButtonEl =\n",
              "            document.querySelector('#' + key + ' button');\n",
              "          quickchartButtonEl.disabled = true;  // To prevent multiple clicks.\n",
              "          quickchartButtonEl.classList.add('colab-df-spinner');\n",
              "          try {\n",
              "            const charts = await google.colab.kernel.invokeFunction(\n",
              "                'suggestCharts', [key], {});\n",
              "          } catch (error) {\n",
              "            console.error('Error during call to suggestCharts:', error);\n",
              "          }\n",
              "          quickchartButtonEl.classList.remove('colab-df-spinner');\n",
              "          quickchartButtonEl.classList.add('colab-df-quickchart-complete');\n",
              "        }\n",
              "        (() => {\n",
              "          let quickchartButtonEl =\n",
              "            document.querySelector('#df-235d3248-3fed-45ba-a075-59a734145235 button');\n",
              "          quickchartButtonEl.style.display =\n",
              "            google.colab.kernel.accessAllowed ? 'block' : 'none';\n",
              "        })();\n",
              "      </script>\n",
              "    </div>\n",
              "\n",
              "    </div>\n",
              "  </div>\n"
            ],
            "application/vnd.google.colaboratory.intrinsic+json": {
              "type": "dataframe",
              "variable_name": "municipios",
              "repr_error": "Out of range float values are not JSON compliant: nan"
            }
          },
          "metadata": {},
          "execution_count": 4
        }
      ]
    },
    {
      "cell_type": "code",
      "source": [
        "# Filtrar para o município de estudo\n",
        "municipio_estudo = \"Oiapoque\"\n",
        "\n",
        "municipio_bbox = municipios[municipios['NM_DIST'].str.contains(municipio_estudo, case=False)]\n",
        "\n",
        "# Obter os limites (bounding box) do Oiapoque/AP\n",
        "xmin, ymin, xmax, ymax = municipio_bbox.total_bounds\n",
        "xmin, ymin, xmax, ymax\n"
      ],
      "metadata": {
        "colab": {
          "base_uri": "https://localhost:8080/"
        },
        "id": "YBxWSWgQnfgF",
        "outputId": "eb43cbc2-9886-4f3a-ea75-afe495378a18"
      },
      "execution_count": 5,
      "outputs": [
        {
          "output_type": "execute_result",
          "data": {
            "text/plain": [
              "(np.float64(-51.855426),\n",
              " np.float64(3.17639),\n",
              " np.float64(-51.356847),\n",
              " np.float64(4.394141))"
            ]
          },
          "metadata": {},
          "execution_count": 5
        }
      ]
    },
    {
      "cell_type": "code",
      "source": [
        "municipio_bbox.total_bounds"
      ],
      "metadata": {
        "colab": {
          "base_uri": "https://localhost:8080/"
        },
        "id": "m94dSx0Gnhwt",
        "outputId": "3caa92f5-840b-489e-893f-e1f62246e7c3"
      },
      "execution_count": 6,
      "outputs": [
        {
          "output_type": "execute_result",
          "data": {
            "text/plain": [
              "array([-51.855426,   3.17639 , -51.356847,   4.394141])"
            ]
          },
          "metadata": {},
          "execution_count": 6
        }
      ]
    },
    {
      "cell_type": "markdown",
      "source": [
        "## Importando rasters de 1985 e 2023"
      ],
      "metadata": {
        "id": "xRg33cGjnlH5"
      }
    },
    {
      "cell_type": "markdown",
      "source": [
        "### 1 - Descobrindo o tamanho em pixels do raster"
      ],
      "metadata": {
        "id": "-ttLdTbFnou3"
      }
    },
    {
      "cell_type": "code",
      "source": [
        "import requests\n",
        "import xml.etree.ElementTree as ET\n",
        "\n",
        "# Parâmetros para o WCS e a cobertura\n",
        "wcs_url = \"https://info.dengue.mat.br/geoserver/wcs\"\n",
        "wcs_version = \"1.0.0\"\n",
        "coverage_id = \"brasil_uso_cob:mapbiomas_brasil_coverage_1985\"\n",
        "\n",
        "# Monta a URL para o DescribeCoverage (sem espaços, com os parâmetros necessários)\n",
        "describe_url = (f\"{wcs_url}?service=WCS&version={wcs_version}\"\n",
        "                f\"&request=DescribeCoverage&coverage={coverage_id}\")\n",
        "\n",
        "r_describe = requests.get(describe_url)\n",
        "if r_describe.status_code != 200:\n",
        "    raise Exception(\"Erro no DescribeCoverage: \" + str(r_describe.status_code))\n",
        "\n",
        "# Parseia o XML da resposta\n",
        "root = ET.fromstring(r_describe.content)\n",
        "# Definir os namespaces – pode ser necessário ajustar se o XML usar outros valores\n",
        "ns = {\n",
        "    \"wcs\": \"http://www.opengis.net/wcs\",\n",
        "    \"gml\": \"http://www.opengis.net/gml\"\n",
        "}\n",
        "\n",
        "# Procura o elemento GridEnvelope na resposta (normalmente dentro de CoverageDescription)\n",
        "grid_env = root.find(\".//gml:GridEnvelope\", ns)\n",
        "if grid_env is None:\n",
        "    raise Exception(\"Nenhum elemento <gml:GridEnvelope> encontrado no DescribeCoverage.\")\n",
        "\n",
        "low_elem = grid_env.find(\"gml:low\", ns)\n",
        "high_elem = grid_env.find(\"gml:high\", ns)\n",
        "if low_elem is None or high_elem is None:\n",
        "    raise Exception(\"Elementos <gml:low> ou <gml:high> não foram encontrados no GridEnvelope.\")\n",
        "\n",
        "# Os valores geralmente vêm como uma string com dois números separados por espaço\n",
        "low_vals = list(map(int, low_elem.text.split()))\n",
        "high_vals = list(map(int, high_elem.text.split()))\n",
        "native_width = high_vals[0] - low_vals[0] + 1\n",
        "native_height = high_vals[1] - low_vals[1] + 1\n",
        "print(\"Dimensões nativas extraídas (width x height):\", native_width, \"x\", native_height)\n"
      ],
      "metadata": {
        "colab": {
          "base_uri": "https://localhost:8080/"
        },
        "id": "qnnaiHoSnjLT",
        "outputId": "6b68d74d-321c-451a-9e53-4bd8c68cf61f"
      },
      "execution_count": 7,
      "outputs": [
        {
          "output_type": "stream",
          "name": "stdout",
          "text": [
            "Dimensões nativas extraídas (width x height): 155241 x 158828\n"
          ]
        }
      ]
    },
    {
      "cell_type": "markdown",
      "source": [
        "### 2 - Calculando o tamanho em pixels do recorte que faremos (para manter a mesma resolucão)"
      ],
      "metadata": {
        "id": "Gxy8z7vAnulT"
      }
    },
    {
      "cell_type": "code",
      "source": [
        "# Metadados do raster original (exemplo)\n",
        "orig_bbox = (-73.98318216, -16.66197917, -43.39929216, 5.26958083)  # (xmin, ymin, xmax, ymax)\n",
        "native_width = 155241   # largura original em pixels\n",
        "native_height = 158828  # altura original em pixels\n",
        "\n",
        "# Calcular resolução em x e y\n",
        "res_x = (orig_bbox[2] - orig_bbox[0]) / native_width\n",
        "res_y = (orig_bbox[3] - orig_bbox[1]) / native_height\n",
        "print(\"Resolução em x:\", res_x)\n",
        "print(\"Resolução em y:\", res_y)\n",
        "\n",
        "# Definir a bbox do recorte (por exemplo, uma região de interesse)\n",
        "crop_bbox = (float(xmin), float(ymin), float(xmax), float(ymax))  # convertendo de np.float para float simples\n",
        "# crop_bbox = (-52.7506, 3.6626, -51.7776, 4.0039)\n",
        "\n",
        "# Calcular dimensões do recorte em pixels\n",
        "crop_width_pixels = int(round((crop_bbox[2] - crop_bbox[0]) / res_x))\n",
        "crop_height_pixels = int(round((crop_bbox[3] - crop_bbox[1]) / res_y))\n",
        "\n",
        "print(\"Dimensões nativas do recorte (pixels): {} x {}\".format(crop_width_pixels, crop_height_pixels))\n"
      ],
      "metadata": {
        "colab": {
          "base_uri": "https://localhost:8080/"
        },
        "id": "thoIIbePnq1t",
        "outputId": "5490a76f-9aa0-4831-9012-05bdb532aee6"
      },
      "execution_count": 8,
      "outputs": [
        {
          "output_type": "stream",
          "name": "stdout",
          "text": [
            "Resolução em x: 0.00019700910197692617\n",
            "Resolução em y: 0.000138083713199184\n",
            "Dimensões nativas do recorte (pixels): 2531 x 8819\n"
          ]
        }
      ]
    },
    {
      "cell_type": "code",
      "source": [
        "crop_bbox"
      ],
      "metadata": {
        "colab": {
          "base_uri": "https://localhost:8080/"
        },
        "id": "5OSNTIJ_nwp2",
        "outputId": "f2eb3cc7-89a6-4786-ea72-8a34d67e456c"
      },
      "execution_count": 9,
      "outputs": [
        {
          "output_type": "execute_result",
          "data": {
            "text/plain": [
              "(-51.855426, 3.17639, -51.356847, 4.394141)"
            ]
          },
          "metadata": {},
          "execution_count": 9
        }
      ]
    },
    {
      "cell_type": "code",
      "source": [
        "# Lista de anos com Terraclass disponível\n",
        "years = [1985, 1986, 1987, 1988, 1989, 1990]\n",
        "crs = \"EPSG:4674\"\n",
        "output_format = \"image/geotiff\"\n",
        "\n",
        "wcs = WebCoverageService(wcs_url, version=wcs_version, timeout=None)\n",
        "\n",
        "for year in years:\n",
        "  coverage_id = f\"brasil_uso_cob:mapbiomas_brasil_coverage_{year}\"\n",
        "  output_file = f\"mapbiomas_coverage_{year}.tif\"\n",
        "\n",
        "  print(f\"requisitando cobertura {coverage_id}\")\n",
        "\n",
        "  response = wcs.getCoverage(\n",
        "      identifier=coverage_id,\n",
        "      format=output_format,\n",
        "      crs=crs,\n",
        "      bbox=crop_bbox,\n",
        "      width=crop_width_pixels,\n",
        "      height=crop_height_pixels,\n",
        "      timeout=None\n",
        "      )\n",
        "\n",
        "  with open(output_file, \"wb\") as f:\n",
        "    f.write(response.read())\n",
        "\n",
        "  print(f\"{output_file} salvo com sucesso\")\n"
      ],
      "metadata": {
        "colab": {
          "base_uri": "https://localhost:8080/"
        },
        "id": "1nTPfWC2n_s7",
        "outputId": "0ba982db-534b-416c-b108-8cfd1a236bb5"
      },
      "execution_count": 10,
      "outputs": [
        {
          "output_type": "stream",
          "name": "stdout",
          "text": [
            "requisitando cobertura brasil_uso_cob:mapbiomas_brasil_coverage_1985\n",
            "mapbiomas_coverage_1985.tif salvo com sucesso\n",
            "requisitando cobertura brasil_uso_cob:mapbiomas_brasil_coverage_1986\n",
            "mapbiomas_coverage_1986.tif salvo com sucesso\n",
            "requisitando cobertura brasil_uso_cob:mapbiomas_brasil_coverage_1987\n",
            "mapbiomas_coverage_1987.tif salvo com sucesso\n",
            "requisitando cobertura brasil_uso_cob:mapbiomas_brasil_coverage_1988\n",
            "mapbiomas_coverage_1988.tif salvo com sucesso\n",
            "requisitando cobertura brasil_uso_cob:mapbiomas_brasil_coverage_1989\n",
            "mapbiomas_coverage_1989.tif salvo com sucesso\n",
            "requisitando cobertura brasil_uso_cob:mapbiomas_brasil_coverage_1990\n",
            "mapbiomas_coverage_1990.tif salvo com sucesso\n"
          ]
        }
      ]
    },
    {
      "cell_type": "code",
      "source": [
        "src_1985 = rasterio.open(\"mapbiomas_coverage_1985.tif\")\n",
        "src_1986 = rasterio.open(\"mapbiomas_coverage_1986.tif\")\n",
        "src_1987 = rasterio.open(\"mapbiomas_coverage_1987.tif\")\n",
        "src_1988 = rasterio.open(\"mapbiomas_coverage_1988.tif\")\n",
        "src_1989 = rasterio.open(\"mapbiomas_coverage_1989.tif\")\n",
        "src_1990 = rasterio.open(\"mapbiomas_coverage_1990.tif\")\n"
      ],
      "metadata": {
        "id": "2yyW3_TYQOUo"
      },
      "execution_count": 11,
      "outputs": []
    },
    {
      "cell_type": "code",
      "source": [
        "years = [1985, 1986, 1987, 1988, 1989, 1990]\n",
        "\n",
        "data = {}\n",
        "profiles = {}\n",
        "nodata_vals = {}\n",
        "transforms = {}\n",
        "\n",
        "for year in years:\n",
        "  path = f\"mapbiomas_coverage_{year}.tif\"\n",
        "  print(f\"Lendo {path}…\")\n",
        "  with rasterio.open(path) as src:\n",
        "    # lê banda 1 como array NumPy\n",
        "    data[year] = src.read(1)\n",
        "    # metadados (dimensão, CRS, dtype, etc.)\n",
        "    profiles[year] = src.profile\n",
        "    # valor de nodata\n",
        "    nodata_vals[year] = src.nodata\n",
        "    # transform affine\n",
        "    transforms[year] = src.transform\n"
      ],
      "metadata": {
        "colab": {
          "base_uri": "https://localhost:8080/"
        },
        "id": "jNzDQkbXp4Do",
        "outputId": "deb7aa7a-6399-49f3-da87-7b4a6abeb34c"
      },
      "execution_count": 12,
      "outputs": [
        {
          "output_type": "stream",
          "name": "stdout",
          "text": [
            "Lendo mapbiomas_coverage_1985.tif…\n",
            "Lendo mapbiomas_coverage_1986.tif…\n",
            "Lendo mapbiomas_coverage_1987.tif…\n",
            "Lendo mapbiomas_coverage_1988.tif…\n",
            "Lendo mapbiomas_coverage_1989.tif…\n",
            "Lendo mapbiomas_coverage_1990.tif…\n"
          ]
        }
      ]
    },
    {
      "cell_type": "code",
      "source": [
        "data_1985 = data[1985]\n",
        "data_1986 = data[1986]\n",
        "data_1987 = data[1987]\n",
        "data_1988 = data[1988]\n",
        "data_1989 = data[1989]\n",
        "data_1990 = data[1989]"
      ],
      "metadata": {
        "id": "Asxmzp9GsQwg"
      },
      "execution_count": 13,
      "outputs": []
    },
    {
      "cell_type": "code",
      "source": [
        "profile_1985 = profiles[1985]\n",
        "profile_1986 = profiles[1986]\n",
        "profile_1987 = profiles[1987]\n",
        "profile_1988 = profiles[1988]\n",
        "profile_1989 = profiles[1989]\n",
        "profile_1990 = profiles[1990]\n"
      ],
      "metadata": {
        "id": "OvhU-3r0tMuM"
      },
      "execution_count": 14,
      "outputs": []
    },
    {
      "cell_type": "code",
      "source": [
        "nodata_1985 = nodata_vals[1985]\n",
        "nodata_1986 = nodata_vals[1986]\n",
        "nodata_1987 = nodata_vals[1987]\n",
        "nodata_1988 = nodata_vals[1988]\n",
        "nodata_1989 = nodata_vals[1989]\n",
        "nodata_1990 = nodata_vals[1990]\n"
      ],
      "metadata": {
        "id": "4hvyGJxptTXz"
      },
      "execution_count": 15,
      "outputs": []
    },
    {
      "cell_type": "code",
      "source": [
        "transform_1985 = transforms[1985]\n",
        "transform_1986 = transforms[1986]\n",
        "transform_1987 = transforms[1987]\n",
        "transform_1988 = transforms[1988]\n",
        "transform_1989 = transforms[1989]\n",
        "transform_1990 = transforms[1990]\n"
      ],
      "metadata": {
        "id": "o6otNviRtTVH"
      },
      "execution_count": 16,
      "outputs": []
    },
    {
      "cell_type": "code",
      "source": [
        "# Se os rasters tiverem valor NoData, mascaramos esses pixels para que apareçam em branco\n",
        "if nodata_1985 is not None:\n",
        "    data_1985 = np.ma.masked_equal(data_1985, nodata_1985)\n",
        "if nodata_1986 is not None:\n",
        "    data_1986 = np.ma.masked_equal(data_1986, nodata_1986)\n",
        "if nodata_1987 is not None:\n",
        "    data_1987 = np.ma.masked_equal(data_1987, nodata_1987)\n",
        "if nodata_1988 is not None:\n",
        "    data_1988 = np.ma.masked_equal(data_1988, nodata_1988)\n",
        "if nodata_1989 is not None:\n",
        "    data_1989 = np.ma.masked_equal(data_1989, nodata_1989)\n",
        "if nodata_1990 is not None:\n",
        "    data_1990 = np.ma.masked_equal(data_1990, nodata_1990)\n"
      ],
      "metadata": {
        "id": "lHKwDUrCtSSH"
      },
      "execution_count": 17,
      "outputs": []
    },
    {
      "cell_type": "code",
      "source": [
        "extent = [src_1985.bounds.left, src_1985.bounds.right, src_1985.bounds.bottom, src_1985.bounds.top]\n",
        "extent\n"
      ],
      "metadata": {
        "colab": {
          "base_uri": "https://localhost:8080/"
        },
        "id": "1koKh9yVw9ZC",
        "outputId": "a0d70301-5986-49f3-f4c1-052b01af4341"
      },
      "execution_count": 18,
      "outputs": [
        {
          "output_type": "execute_result",
          "data": {
            "text/plain": [
              "[-51.855426, -51.35684700000001, 3.1763900001129484, 4.394141000297353]"
            ]
          },
          "metadata": {},
          "execution_count": 18
        }
      ]
    },
    {
      "cell_type": "markdown",
      "source": [
        "## Extraindo estatísticas zonais"
      ],
      "metadata": {
        "id": "xl3kX65sQvtx"
      }
    },
    {
      "cell_type": "code",
      "source": [
        "municipio_estudo = \"Oiapoque\"\n",
        "\n",
        "mun_estudo = municipios[municipios['NM_DIST'].str.contains(municipio_estudo, case=False)]\n"
      ],
      "metadata": {
        "id": "jvkXzpDuQwUc"
      },
      "execution_count": 19,
      "outputs": []
    },
    {
      "cell_type": "code",
      "source": [
        "years = [1985, 1986, 1987, 1988, 1989, 1990]\n",
        "zs = {}\n",
        "\n",
        "for year in years:\n",
        "  zs[year] = zonal_stats(mun_estudo, data[year], affine=transforms[year], categorical=True, nodata=nodata_vals[year])\n"
      ],
      "metadata": {
        "id": "qT_JLlaqQ2yi"
      },
      "execution_count": 20,
      "outputs": []
    },
    {
      "cell_type": "code",
      "source": [
        "zs[1985]"
      ],
      "metadata": {
        "colab": {
          "base_uri": "https://localhost:8080/"
        },
        "id": "vFTl_brbQyc_",
        "outputId": "c23d5eb0-f6bd-491d-8358-521b59425157"
      },
      "execution_count": 21,
      "outputs": [
        {
          "output_type": "execute_result",
          "data": {
            "text/plain": [
              "[{3: 4957636,\n",
              "  4: 202,\n",
              "  5: 5311,\n",
              "  6: 2247848,\n",
              "  11: 2851511,\n",
              "  12: 66652,\n",
              "  15: 15228,\n",
              "  24: 431,\n",
              "  33: 307142}]"
            ]
          },
          "metadata": {},
          "execution_count": 21
        }
      ]
    },
    {
      "cell_type": "code",
      "source": [
        "# extraímos o único elemento de cada lista e montamos um dict “ano = {classe: contagem, …}”\n",
        "flat = {year: zs[year][0] for year in years}\n",
        "\n",
        "# criamos o DataFrame, transpondo para que cada linha seja um ano\n",
        "df = pd.DataFrame.from_dict(flat, orient='index').fillna(0)\n",
        "\n",
        "# converte o índice (ano) em coluna\n",
        "df.index.name = 'year'\n",
        "df.reset_index(inplace=True)\n",
        "\n",
        "print(df)\n"
      ],
      "metadata": {
        "colab": {
          "base_uri": "https://localhost:8080/"
        },
        "id": "iIBoSrR-Q1GH",
        "outputId": "6cfe99d1-1ec8-407d-a815-c0ea04100a0e"
      },
      "execution_count": 22,
      "outputs": [
        {
          "output_type": "stream",
          "name": "stdout",
          "text": [
            "   year        3    4     5        6       11     12     15   24      33\n",
            "0  1985  4957636  202  5311  2247848  2851511  66652  15228  431  307142\n",
            "1  1986  4958121  202  5311  2249945  2795023  62119  73648  514  307088\n",
            "2  1987  4958118  202  5311  2246993  2797946  62117  73646  546  307092\n",
            "3  1988  4955483  286  5311  2246716  2794862  62325  79354  546  307088\n",
            "4  1989  4955484  285  5311  2246715  2794894  62176  79472  546  307088\n",
            "5  1990  4955484  285  5311  2246715  2794894  62176  79472  546  307088\n"
          ]
        }
      ]
    },
    {
      "cell_type": "code",
      "source": [
        "# Dicionário de mapeamento\n",
        "palette = {\n",
        "    3: \"Forest Formation\",\n",
        "    4: \"Savanna Formation\",\n",
        "    5: \"Mangrove\",\n",
        "    6: \"Floodable Forest\",\n",
        "    9: \"Forest Plantation\",\n",
        "    11: \"Wetland\",\n",
        "    12: \"Grassland\",\n",
        "    15: \"Pasture\",\n",
        "    20: \"Sugar Cane\",\n",
        "    21: \"Mosaic of Uses\",\n",
        "    23: \"Beach, Dune and Sand Spot\",\n",
        "    24: \"Urban Area\",\n",
        "    25: \"Other non Vegetated Areas\",\n",
        "    29: \"Rocky Outcrop\",\n",
        "    30: \"Mining\",\n",
        "    31: \"Aquaculture\",\n",
        "    32: \"Hypersaline Tidal Flat\",\n",
        "    33: \"River, Lake and Ocean\",\n",
        "    35: \"Palm Oil\",\n",
        "    39: \"Soybean\",\n",
        "    40: \"Rice\",\n",
        "    41: \"Other Temporary Crops\",\n",
        "    46: \"Coffee\",\n",
        "    47: \"Citrus\",\n",
        "    48: \"Other Perennial Crops\",\n",
        "    49: \"Wooded Sandbank Vegetation\",\n",
        "}\n",
        "\n",
        "# Monta um dicionário de renomeação só com as colunas que existem em df\n",
        "col_mapping = {}\n",
        "for k, v in palette.items():\n",
        "    if k in df.columns:\n",
        "        col_mapping[k] = v\n",
        "    elif str(k) in df.columns:\n",
        "        col_mapping[str(k)] = v\n",
        "\n",
        "# Aplica o renomeamento\n",
        "df_final = df.rename(columns=col_mapping)\n",
        "\n",
        "print(df_final.columns)\n"
      ],
      "metadata": {
        "colab": {
          "base_uri": "https://localhost:8080/"
        },
        "id": "8YG3W-IBbslp",
        "outputId": "a8747a7b-d811-4804-8ce6-e30663ec54d3"
      },
      "execution_count": 23,
      "outputs": [
        {
          "output_type": "stream",
          "name": "stdout",
          "text": [
            "Index(['year', 'Forest Formation', 'Savanna Formation', 'Mangrove',\n",
            "       'Floodable Forest', 'Wetland', 'Grassland', 'Pasture', 'Urban Area',\n",
            "       'River, Lake and Ocean'],\n",
            "      dtype='object')\n"
          ]
        }
      ]
    },
    {
      "cell_type": "code",
      "source": [
        "print(df_final)\n"
      ],
      "metadata": {
        "colab": {
          "base_uri": "https://localhost:8080/"
        },
        "id": "cuaqtVVqdYnm",
        "outputId": "345175e0-edda-4092-c281-03cf0813635f"
      },
      "execution_count": 24,
      "outputs": [
        {
          "output_type": "stream",
          "name": "stdout",
          "text": [
            "   year  Forest Formation  Savanna Formation  Mangrove  Floodable Forest  \\\n",
            "0  1985           4957636                202      5311           2247848   \n",
            "1  1986           4958121                202      5311           2249945   \n",
            "2  1987           4958118                202      5311           2246993   \n",
            "3  1988           4955483                286      5311           2246716   \n",
            "4  1989           4955484                285      5311           2246715   \n",
            "5  1990           4955484                285      5311           2246715   \n",
            "\n",
            "   Wetland  Grassland  Pasture  Urban Area  River, Lake and Ocean  \n",
            "0  2851511      66652    15228         431                 307142  \n",
            "1  2795023      62119    73648         514                 307088  \n",
            "2  2797946      62117    73646         546                 307092  \n",
            "3  2794862      62325    79354         546                 307088  \n",
            "4  2794894      62176    79472         546                 307088  \n",
            "5  2794894      62176    79472         546                 307088  \n"
          ]
        }
      ]
    }
  ]
}